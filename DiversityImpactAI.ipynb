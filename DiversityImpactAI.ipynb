{
  "cells": [
    {
      "cell_type": "markdown",
      "metadata": {
        "colab_type": "text",
        "id": "view-in-github"
      },
      "source": [
        "<a href=\"https://colab.research.google.com/github/fuzzy31u/DiversityImpactAI/blob/main/DiversityImpactAI.ipynb\" target=\"_parent\"><img src=\"https://colab.research.google.com/assets/colab-badge.svg\" alt=\"Open In Colab\"/></a>"
      ]
    },
    {
      "cell_type": "code",
      "execution_count": null,
      "metadata": {
        "colab": {
          "base_uri": "https://localhost:8080/",
          "height": 92
        },
        "id": "aJGWsz2strXW",
        "outputId": "099c6ac6-405e-4cf5-e35e-505967142c07"
      },
      "outputs": [],
      "source": [
        "# Upload kaggle API token(kaggle.json) to Colab\n",
        "from google.colab import files\n",
        "files.upload()"
      ]
    },
    {
      "cell_type": "code",
      "execution_count": null,
      "metadata": {
        "id": "sls0qV9BuETb"
      },
      "outputs": [],
      "source": [
        "# move kaggle.json to the specific place\n",
        "!mkdir -p ~/.kaggle\n",
        "!cp kaggle.json ~/.kaggle/\n",
        "!chmod 600 ~/.kaggle/kaggle.json"
      ]
    },
    {
      "cell_type": "code",
      "execution_count": null,
      "metadata": {
        "colab": {
          "base_uri": "https://localhost:8080/"
        },
        "id": "679FfW_GXWak",
        "outputId": "3b4563a1-7e5d-4d85-d9ac-b8a02a471f2a"
      },
      "outputs": [],
      "source": [
        "# Download dataset with Kaggle API\n",
        "!kaggle datasets download hackerrank/developer-survey-2018 --unzip"
      ]
    },
    {
      "cell_type": "code",
      "execution_count": null,
      "metadata": {
        "colab": {
          "base_uri": "https://localhost:8080/",
          "height": 552
        },
        "id": "CATqY5ucYJQZ",
        "outputId": "1f995cb6-700f-4c66-ce72-47a6994b30aa"
      },
      "outputs": [],
      "source": [
        "import pandas as pd\n",
        "\n",
        "# Load the downloaded CSV file with Pandas\n",
        "data = pd.read_csv('/content/HackerRank-Developer-Survey-2018-Values.csv')\n",
        "\n",
        "# Display the first 5 rows\n",
        "data.head()"
      ]
    },
    {
      "cell_type": "code",
      "execution_count": null,
      "metadata": {
        "colab": {
          "base_uri": "https://localhost:8080/"
        },
        "id": "0rehqkYswt_e",
        "outputId": "7d44166a-8e05-4b8d-b1d0-57b42eaadf35"
      },
      "outputs": [],
      "source": [
        "# ライブラリのインポート\n",
        "import pandas as pd\n",
        "import glob\n",
        "\n",
        "# CSVファイルのパスを指定（全てのCSVファイルが同じフォルダにあると仮定）\n",
        "# *.csv はディレクトリ内のすべてのCSVファイルを指定\n",
        "csv_files = glob.glob('/content/*.csv')  # 適切なディレクトリに変更してください\n",
        "\n",
        "# 各CSVファイルのカラム名と最初の5件のデータを表示\n",
        "for file_path in csv_files:\n",
        "    print(f\"\\nファイル名: {file_path}\")\n",
        "\n",
        "    # CSVファイルの読み込み\n",
        "    data = pd.read_csv(file_path)\n",
        "\n",
        "    # カラム名の表示\n",
        "    print(\"カラム名:\")\n",
        "    print(data.columns.tolist())  # カラム名をリストとして表示\n",
        "\n",
        "    # 最初の5件のデータを表示\n",
        "    print(\"\\nデータ（最初の1件）:\")\n",
        "    print(data.head(n=1))\n",
        "    print(\"\\n-------------------\")\n"
      ]
    },
    {
      "cell_type": "code",
      "execution_count": null,
      "metadata": {
        "colab": {
          "base_uri": "https://localhost:8080/"
        },
        "id": "GERPwQ6Bzg5b",
        "outputId": "ecca8525-2221-49bc-b29a-96ee001aa945"
      },
      "outputs": [],
      "source": [
        "# ライブラリのインポート\n",
        "import pandas as pd\n",
        "import numpy as np\n",
        "from sklearn.model_selection import train_test_split\n",
        "from sklearn.linear_model import LinearRegression\n",
        "from sklearn.metrics import mean_squared_error, r2_score\n",
        "\n",
        "from sklearn.preprocessing import LabelEncoder, OneHotEncoder\n",
        "\n",
        "# データの読み込み\n",
        "values_df = pd.read_csv('/content/HackerRank-Developer-Survey-2018-Values.csv')\n",
        "mapping_df = pd.read_csv('/content/HackerRank-Developer-Survey-2018-Numeric-Mapping.csv')\n",
        "codebook_df = pd.read_csv('/content/HackerRank-Developer-Survey-2018-Codebook.csv')\n",
        "country_code_df = pd.read_csv('/content/Country-Code-Mapping.csv')\n",
        "numeric_df = pd.read_csv('/content/HackerRank-Developer-Survey-2018-Numeric.csv')\n"
      ]
    },
    {
      "cell_type": "markdown",
      "metadata": {
        "id": "9HPVa30Jw1IX"
      },
      "source": [
        "# Initialize Gemini"
      ]
    },
    {
      "cell_type": "code",
      "execution_count": null,
      "metadata": {
        "id": "YwwuUcJZvbyZ"
      },
      "outputs": [],
      "source": [
        "# Import the Python SDK\n",
        "import google.generativeai as genai\n",
        "# Used to securely store your API key\n",
        "from google.colab import userdata\n",
        "\n",
        "GOOGLE_API_KEY=userdata.get('GOOGLE_API_KEY')\n",
        "genai.configure(api_key=GOOGLE_API_KEY)"
      ]
    },
    {
      "cell_type": "code",
      "execution_count": null,
      "metadata": {
        "colab": {
          "base_uri": "https://localhost:8080/"
        },
        "id": "yRisxaQC0liq",
        "outputId": "8c62b13d-6b63-453f-de16-26a7434565d5"
      },
      "outputs": [],
      "source": [
        "# 'q3Gender'列のユニークな値を見て、どのような性別データが含まれているか確認\n",
        "print(values_df['q3Gender'].unique())"
      ]
    },
    {
      "cell_type": "code",
      "execution_count": null,
      "metadata": {
        "colab": {
          "base_uri": "https://localhost:8080/"
        },
        "id": "QETw92Fh0wGK",
        "outputId": "a2512e85-4b4a-413b-e60a-b15d57dc0fb0"
      },
      "outputs": [],
      "source": [
        "# 'q3Gender' 列で欠損値の確認 (例: NaNなど)\n",
        "print(values_df['q3Gender'].isnull().sum())\n",
        "\n",
        "# 不要な値（例えば、'Other'やNaN）を除外してクレンジング\n",
        "clean_data = values_df.dropna(subset=['q3Gender'])"
      ]
    },
    {
      "cell_type": "code",
      "execution_count": null,
      "metadata": {
        "colab": {
          "base_uri": "https://localhost:8080/",
          "height": 458
        },
        "id": "utYQvtVF03kr",
        "outputId": "6cccb0a9-9437-4615-a4a5-f05285c58130"
      },
      "outputs": [],
      "source": [
        "# Pandasのreplace()メソッドを利用して、性別データをエンコーディング\n",
        "clean_data['q3Gender'] = clean_data['q3Gender'].replace({\n",
        "    'Female': 0,\n",
        "    'Male': 1,\n",
        "    'Non-binary': 2,\n",
        "    'Other': 3\n",
        "})\n",
        "\n",
        "# データ型の確認\n",
        "clean_data.dtypes"
      ]
    },
    {
      "cell_type": "code",
      "execution_count": null,
      "metadata": {
        "colab": {
          "base_uri": "https://localhost:8080/",
          "height": 725
        },
        "id": "8NqPVlvS0_py",
        "outputId": "2a07a431-ff27-4c55-9b32-8855a8c17600"
      },
      "outputs": [],
      "source": [
        "# 性別ごとのキャリアの早期開始年齢とその分布を確認\n",
        "import seaborn as sns\n",
        "import matplotlib.pyplot as plt\n",
        "\n",
        "# Check if 'q1AgeBeginCoding' is in clean_data\n",
        "print(clean_data.columns)  # Print columns to verify\n",
        "\n",
        "# 散布図で性別ごとに年齢分布を確認\n",
        "plt.figure(figsize=(10, 6))\n",
        "sns.countplot(data=clean_data, x='q1AgeBeginCoding', hue='q3Gender')\n",
        "plt.title('Age Started Coding by Gender')\n",
        "plt.xlabel('Age Started Coding')\n",
        "plt.ylabel('Count')\n",
        "plt.show()"
      ]
    },
    {
      "cell_type": "code",
      "execution_count": null,
      "metadata": {
        "colab": {
          "base_uri": "https://localhost:8080/",
          "height": 564
        },
        "id": "Je9USQEy3ZNk",
        "outputId": "bcb7c0cf-ffb7-40ba-c183-d955cb206fb6"
      },
      "outputs": [],
      "source": [
        "# 性別と採用試験（HackerRank推奨）の関係を確認\n",
        "plt.figure(figsize=(10, 6))\n",
        "sns.countplot(data=clean_data, x='q32RecommendHackerRank', hue='q3Gender')\n",
        "plt.title('HackerRank Recommendation by Gender')\n",
        "plt.xlabel('Recommend HackerRank? (Yes/No)')\n",
        "plt.ylabel('Count')\n",
        "plt.show()"
      ]
    }
  ],
  "metadata": {
    "colab": {
      "authorship_tag": "ABX9TyMMm/5dIVtgIQ+KQqViGYr4",
      "include_colab_link": true,
      "provenance": []
    },
    "kernelspec": {
      "display_name": "Python 3",
      "name": "python3"
    },
    "language_info": {
      "name": "python"
    }
  },
  "nbformat": 4,
  "nbformat_minor": 0
}
